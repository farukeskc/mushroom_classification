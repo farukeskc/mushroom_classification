{
 "cells": [
  {
   "cell_type": "code",
   "execution_count": 2,
   "id": "4c457487",
   "metadata": {},
   "outputs": [],
   "source": [
    "import pandas as pd\n",
    "import numpy as np\n",
    "from sklearn.preprocessing import StandardScaler"
   ]
  },
  {
   "cell_type": "code",
   "execution_count": 3,
   "id": "4d0ec9ef",
   "metadata": {},
   "outputs": [],
   "source": [
    "data = pd.read_csv(\"./mushrooms.csv\")"
   ]
  },
  {
   "cell_type": "code",
   "execution_count": 4,
   "id": "47cff6ed",
   "metadata": {},
   "outputs": [
    {
     "name": "stdout",
     "output_type": "stream",
     "text": [
      "<class 'pandas.core.frame.DataFrame'>\n",
      "RangeIndex: 8124 entries, 0 to 8123\n",
      "Data columns (total 23 columns):\n",
      " #   Column                    Non-Null Count  Dtype \n",
      "---  ------                    --------------  ----- \n",
      " 0   class                     8124 non-null   object\n",
      " 1   cap-shape                 8124 non-null   object\n",
      " 2   cap-surface               8124 non-null   object\n",
      " 3   cap-color                 8124 non-null   object\n",
      " 4   bruises                   8124 non-null   object\n",
      " 5   odor                      8124 non-null   object\n",
      " 6   gill-attachment           8124 non-null   object\n",
      " 7   gill-spacing              8124 non-null   object\n",
      " 8   gill-size                 8124 non-null   object\n",
      " 9   gill-color                8124 non-null   object\n",
      " 10  stalk-shape               8124 non-null   object\n",
      " 11  stalk-root                8124 non-null   object\n",
      " 12  stalk-surface-above-ring  8124 non-null   object\n",
      " 13  stalk-surface-below-ring  8124 non-null   object\n",
      " 14  stalk-color-above-ring    8124 non-null   object\n",
      " 15  stalk-color-below-ring    8124 non-null   object\n",
      " 16  veil-type                 8124 non-null   object\n",
      " 17  veil-color                8124 non-null   object\n",
      " 18  ring-number               8124 non-null   object\n",
      " 19  ring-type                 8124 non-null   object\n",
      " 20  spore-print-color         8124 non-null   object\n",
      " 21  population                8124 non-null   object\n",
      " 22  habitat                   8124 non-null   object\n",
      "dtypes: object(23)\n",
      "memory usage: 1.4+ MB\n"
     ]
    }
   ],
   "source": [
    "data.info()"
   ]
  },
  {
   "cell_type": "code",
   "execution_count": 5,
   "id": "aa5f92f1",
   "metadata": {},
   "outputs": [
    {
     "data": {
      "text/plain": [
       "class                       0\n",
       "cap-shape                   0\n",
       "cap-surface                 0\n",
       "cap-color                   0\n",
       "bruises                     0\n",
       "odor                        0\n",
       "gill-attachment             0\n",
       "gill-spacing                0\n",
       "gill-size                   0\n",
       "gill-color                  0\n",
       "stalk-shape                 0\n",
       "stalk-root                  0\n",
       "stalk-surface-above-ring    0\n",
       "stalk-surface-below-ring    0\n",
       "stalk-color-above-ring      0\n",
       "stalk-color-below-ring      0\n",
       "veil-type                   0\n",
       "veil-color                  0\n",
       "ring-number                 0\n",
       "ring-type                   0\n",
       "spore-print-color           0\n",
       "population                  0\n",
       "habitat                     0\n",
       "dtype: int64"
      ]
     },
     "execution_count": 5,
     "metadata": {},
     "output_type": "execute_result"
    }
   ],
   "source": [
    "data.isnull().sum()"
   ]
  },
  {
   "cell_type": "code",
   "execution_count": 7,
   "id": "aa302149",
   "metadata": {
    "scrolled": true
   },
   "outputs": [
    {
     "data": {
      "text/html": [
       "<div>\n",
       "<style scoped>\n",
       "    .dataframe tbody tr th:only-of-type {\n",
       "        vertical-align: middle;\n",
       "    }\n",
       "\n",
       "    .dataframe tbody tr th {\n",
       "        vertical-align: top;\n",
       "    }\n",
       "\n",
       "    .dataframe thead th {\n",
       "        text-align: right;\n",
       "    }\n",
       "</style>\n",
       "<table border=\"1\" class=\"dataframe\">\n",
       "  <thead>\n",
       "    <tr style=\"text-align: right;\">\n",
       "      <th></th>\n",
       "      <th>class</th>\n",
       "      <th>cap-shape</th>\n",
       "      <th>cap-surface</th>\n",
       "      <th>cap-color</th>\n",
       "      <th>bruises</th>\n",
       "      <th>odor</th>\n",
       "      <th>gill-attachment</th>\n",
       "      <th>gill-spacing</th>\n",
       "      <th>gill-size</th>\n",
       "      <th>gill-color</th>\n",
       "      <th>...</th>\n",
       "      <th>stalk-surface-below-ring</th>\n",
       "      <th>stalk-color-above-ring</th>\n",
       "      <th>stalk-color-below-ring</th>\n",
       "      <th>veil-type</th>\n",
       "      <th>veil-color</th>\n",
       "      <th>ring-number</th>\n",
       "      <th>ring-type</th>\n",
       "      <th>spore-print-color</th>\n",
       "      <th>population</th>\n",
       "      <th>habitat</th>\n",
       "    </tr>\n",
       "  </thead>\n",
       "  <tbody>\n",
       "    <tr>\n",
       "      <th>0</th>\n",
       "      <td>p</td>\n",
       "      <td>x</td>\n",
       "      <td>s</td>\n",
       "      <td>n</td>\n",
       "      <td>t</td>\n",
       "      <td>p</td>\n",
       "      <td>f</td>\n",
       "      <td>c</td>\n",
       "      <td>n</td>\n",
       "      <td>k</td>\n",
       "      <td>...</td>\n",
       "      <td>s</td>\n",
       "      <td>w</td>\n",
       "      <td>w</td>\n",
       "      <td>p</td>\n",
       "      <td>w</td>\n",
       "      <td>o</td>\n",
       "      <td>p</td>\n",
       "      <td>k</td>\n",
       "      <td>s</td>\n",
       "      <td>u</td>\n",
       "    </tr>\n",
       "    <tr>\n",
       "      <th>1</th>\n",
       "      <td>e</td>\n",
       "      <td>x</td>\n",
       "      <td>s</td>\n",
       "      <td>y</td>\n",
       "      <td>t</td>\n",
       "      <td>a</td>\n",
       "      <td>f</td>\n",
       "      <td>c</td>\n",
       "      <td>b</td>\n",
       "      <td>k</td>\n",
       "      <td>...</td>\n",
       "      <td>s</td>\n",
       "      <td>w</td>\n",
       "      <td>w</td>\n",
       "      <td>p</td>\n",
       "      <td>w</td>\n",
       "      <td>o</td>\n",
       "      <td>p</td>\n",
       "      <td>n</td>\n",
       "      <td>n</td>\n",
       "      <td>g</td>\n",
       "    </tr>\n",
       "    <tr>\n",
       "      <th>2</th>\n",
       "      <td>e</td>\n",
       "      <td>b</td>\n",
       "      <td>s</td>\n",
       "      <td>w</td>\n",
       "      <td>t</td>\n",
       "      <td>l</td>\n",
       "      <td>f</td>\n",
       "      <td>c</td>\n",
       "      <td>b</td>\n",
       "      <td>n</td>\n",
       "      <td>...</td>\n",
       "      <td>s</td>\n",
       "      <td>w</td>\n",
       "      <td>w</td>\n",
       "      <td>p</td>\n",
       "      <td>w</td>\n",
       "      <td>o</td>\n",
       "      <td>p</td>\n",
       "      <td>n</td>\n",
       "      <td>n</td>\n",
       "      <td>m</td>\n",
       "    </tr>\n",
       "    <tr>\n",
       "      <th>3</th>\n",
       "      <td>p</td>\n",
       "      <td>x</td>\n",
       "      <td>y</td>\n",
       "      <td>w</td>\n",
       "      <td>t</td>\n",
       "      <td>p</td>\n",
       "      <td>f</td>\n",
       "      <td>c</td>\n",
       "      <td>n</td>\n",
       "      <td>n</td>\n",
       "      <td>...</td>\n",
       "      <td>s</td>\n",
       "      <td>w</td>\n",
       "      <td>w</td>\n",
       "      <td>p</td>\n",
       "      <td>w</td>\n",
       "      <td>o</td>\n",
       "      <td>p</td>\n",
       "      <td>k</td>\n",
       "      <td>s</td>\n",
       "      <td>u</td>\n",
       "    </tr>\n",
       "    <tr>\n",
       "      <th>4</th>\n",
       "      <td>e</td>\n",
       "      <td>x</td>\n",
       "      <td>s</td>\n",
       "      <td>g</td>\n",
       "      <td>f</td>\n",
       "      <td>n</td>\n",
       "      <td>f</td>\n",
       "      <td>w</td>\n",
       "      <td>b</td>\n",
       "      <td>k</td>\n",
       "      <td>...</td>\n",
       "      <td>s</td>\n",
       "      <td>w</td>\n",
       "      <td>w</td>\n",
       "      <td>p</td>\n",
       "      <td>w</td>\n",
       "      <td>o</td>\n",
       "      <td>e</td>\n",
       "      <td>n</td>\n",
       "      <td>a</td>\n",
       "      <td>g</td>\n",
       "    </tr>\n",
       "  </tbody>\n",
       "</table>\n",
       "<p>5 rows × 23 columns</p>\n",
       "</div>"
      ],
      "text/plain": [
       "  class cap-shape cap-surface cap-color bruises odor gill-attachment  \\\n",
       "0     p         x           s         n       t    p               f   \n",
       "1     e         x           s         y       t    a               f   \n",
       "2     e         b           s         w       t    l               f   \n",
       "3     p         x           y         w       t    p               f   \n",
       "4     e         x           s         g       f    n               f   \n",
       "\n",
       "  gill-spacing gill-size gill-color  ... stalk-surface-below-ring  \\\n",
       "0            c         n          k  ...                        s   \n",
       "1            c         b          k  ...                        s   \n",
       "2            c         b          n  ...                        s   \n",
       "3            c         n          n  ...                        s   \n",
       "4            w         b          k  ...                        s   \n",
       "\n",
       "  stalk-color-above-ring stalk-color-below-ring veil-type veil-color  \\\n",
       "0                      w                      w         p          w   \n",
       "1                      w                      w         p          w   \n",
       "2                      w                      w         p          w   \n",
       "3                      w                      w         p          w   \n",
       "4                      w                      w         p          w   \n",
       "\n",
       "  ring-number ring-type spore-print-color population habitat  \n",
       "0           o         p                 k          s       u  \n",
       "1           o         p                 n          n       g  \n",
       "2           o         p                 n          n       m  \n",
       "3           o         p                 k          s       u  \n",
       "4           o         e                 n          a       g  \n",
       "\n",
       "[5 rows x 23 columns]"
      ]
     },
     "execution_count": 7,
     "metadata": {},
     "output_type": "execute_result"
    }
   ],
   "source": [
    "data.head()"
   ]
  },
  {
   "cell_type": "code",
   "execution_count": 8,
   "id": "63b3d0cd",
   "metadata": {
    "scrolled": true
   },
   "outputs": [
    {
     "data": {
      "text/plain": [
       "class                        2\n",
       "cap-shape                    6\n",
       "cap-surface                  4\n",
       "cap-color                   10\n",
       "bruises                      2\n",
       "odor                         9\n",
       "gill-attachment              2\n",
       "gill-spacing                 2\n",
       "gill-size                    2\n",
       "gill-color                  12\n",
       "stalk-shape                  2\n",
       "stalk-root                   5\n",
       "stalk-surface-above-ring     4\n",
       "stalk-surface-below-ring     4\n",
       "stalk-color-above-ring       9\n",
       "stalk-color-below-ring       9\n",
       "veil-type                    1\n",
       "veil-color                   4\n",
       "ring-number                  3\n",
       "ring-type                    5\n",
       "spore-print-color            9\n",
       "population                   6\n",
       "habitat                      7\n",
       "dtype: int64"
      ]
     },
     "execution_count": 8,
     "metadata": {},
     "output_type": "execute_result"
    }
   ],
   "source": [
    "data.nunique()"
   ]
  },
  {
   "cell_type": "code",
   "execution_count": 11,
   "id": "dd582d5d",
   "metadata": {},
   "outputs": [],
   "source": [
    "encoded_data = pd.get_dummies(data, drop_first=True)"
   ]
  },
  {
   "cell_type": "code",
   "execution_count": 14,
   "id": "5096bea6",
   "metadata": {},
   "outputs": [
    {
     "data": {
      "text/plain": [
       "6499"
      ]
     },
     "execution_count": 14,
     "metadata": {},
     "output_type": "execute_result"
    }
   ],
   "source": [
    "TRAIN_SIZE = int(np.round(encoded_data.shape[0]*0.8))\n",
    "TRAIN_SIZE"
   ]
  },
  {
   "cell_type": "code",
   "execution_count": 16,
   "id": "eef58dbf",
   "metadata": {},
   "outputs": [
    {
     "data": {
      "text/plain": [
       "((6499, 96), (1625, 96))"
      ]
     },
     "execution_count": 16,
     "metadata": {},
     "output_type": "execute_result"
    }
   ],
   "source": [
    "train = encoded_data[:][:TRAIN_SIZE]\n",
    "test = encoded_data[:][TRAIN_SIZE:]\n",
    "train.shape, test.shape"
   ]
  },
  {
   "cell_type": "code",
   "execution_count": 19,
   "id": "6a323023",
   "metadata": {},
   "outputs": [
    {
     "data": {
      "text/plain": [
       "((6499, 95), (1625, 95), (6499,), (1625,))"
      ]
     },
     "execution_count": 19,
     "metadata": {},
     "output_type": "execute_result"
    }
   ],
   "source": [
    "X_train = train.drop(\"class_p\", axis=1)\n",
    "X_test = test.drop(\"class_p\", axis=1)\n",
    "y_train = train[\"class_p\"]\n",
    "y_test = test[\"class_p\"]\n",
    "X_train.shape, X_test.shape, y_train.shape, y_test.shape"
   ]
  },
  {
   "cell_type": "code",
   "execution_count": 20,
   "id": "17b361e7",
   "metadata": {},
   "outputs": [],
   "source": [
    "scaler = StandardScaler()\n",
    "X_train = scaler.fit_transform(X_train)\n",
    "X_test = scaler.fit_transform(X_test)"
   ]
  },
  {
   "cell_type": "code",
   "execution_count": 21,
   "id": "8d128177",
   "metadata": {},
   "outputs": [],
   "source": [
    "class Layer:\n",
    "    def __init__(self):\n",
    "        self.input = None\n",
    "        self.output = None\n",
    "\n",
    "    # computes the output Y of a layer for a given input X\n",
    "    \n",
    "    def forward_propagation(self, input):\n",
    "        raise NotImplementedError\n",
    "\n",
    "    # computes dE/dX for a given dE/dY (and update parameters if any)\n",
    "    def backward_propagation(self, output_error, learning_rate):\n",
    "        raise NotImplementedError"
   ]
  },
  {
   "cell_type": "code",
   "execution_count": 22,
   "id": "61a3c8b8",
   "metadata": {},
   "outputs": [],
   "source": [
    "class FCLayer(Layer):\n",
    "    # input_size = number of input neurons\n",
    "    # output_size = number of edges that connects to neurons in next layer\n",
    "    def __init__(self, input_size, output_size):\n",
    "        self.weights = np.random.rand(input_size, output_size) - 0.5\n",
    "        self.bias = np.random.rand(1, output_size) - 0.5\n",
    "\n",
    "    # returns output for a given input\n",
    "    def forward_propagation(self, input_data):\n",
    "        self.input = input_data\n",
    "        self.output = np.dot(self.input, self.weights) + self.bias\n",
    "        return self.output\n",
    "\n",
    "    # computes dE/dW, dE/dB for a given output_error=dE/dY. Returns input_error=dE/dX.\n",
    "    def backward_propagation(self, output_error, learning_rate):\n",
    "        input_error = np.dot(output_error, self.weights.T)\n",
    "        weights_error = np.dot(self.input.T, output_error)\n",
    "        # dBias = output_error\n",
    "\n",
    "        # update parameters\n",
    "        self.weights -= learning_rate * weights_error\n",
    "        self.bias -= learning_rate * output_error\n",
    "        return input_error"
   ]
  },
  {
   "cell_type": "code",
   "execution_count": 23,
   "id": "8c393511",
   "metadata": {},
   "outputs": [],
   "source": [
    "class ActivationLayer(Layer):\n",
    "    def __init__(self, activation, activation_prime):\n",
    "        self.activation = activation\n",
    "        self.activation_prime = activation_prime\n",
    "\n",
    "    # returns the activated input\n",
    "    def forward_propagation(self, input_data):\n",
    "        self.input = input_data\n",
    "        self.output = self.activation(self.input)\n",
    "        return self.output\n",
    "\n",
    "    # Returns input_error=dE/dX for a given output_error=dE/dY.\n",
    "    # learning_rate is not used because there is no \"learnable\" parameters.\n",
    "    def backward_propagation(self, output_error, learning_rate):\n",
    "        return self.activation_prime(self.input) * output_error"
   ]
  },
  {
   "cell_type": "code",
   "execution_count": 24,
   "id": "d234c598",
   "metadata": {},
   "outputs": [],
   "source": [
    "def tanh(x):\n",
    "    return np.tanh(x);\n",
    "\n",
    "def tanh_prime(x):\n",
    "    return 1-np.tanh(x)**2;"
   ]
  },
  {
   "cell_type": "code",
   "execution_count": 36,
   "id": "5c804280",
   "metadata": {},
   "outputs": [],
   "source": [
    "def log_loss(y_true, y_pred):\n",
    "    #print(y_true, y_pred)\n",
    "    return np.mean(-y_true*np.log(y_pred)-(1-y_true)*np.log(1-y_pred))\n",
    "\n",
    "def log_loss_prime(y_true, y_pred):\n",
    "    return ((1 - y_true) / (1 - y_pred) - y_true / y_pred) / np.size(y_true)"
   ]
  },
  {
   "cell_type": "code",
   "execution_count": 26,
   "id": "42fc5db3",
   "metadata": {},
   "outputs": [],
   "source": [
    "def sigmoid(x):\n",
    "    return 1/(1 + np.exp(-x))\n",
    "\n",
    "def sigmoid_prime(x):\n",
    "    f = 1/(1+np.exp(-x))\n",
    "    return f * (1 - f)"
   ]
  },
  {
   "cell_type": "code",
   "execution_count": 27,
   "id": "300f50c2",
   "metadata": {},
   "outputs": [],
   "source": [
    "def relu(x):\n",
    "    return np.maximum(0, x)\n",
    "def relu_prime(x):\n",
    "    return np.where(x > 0, 1.0, 0.0)"
   ]
  },
  {
   "cell_type": "code",
   "execution_count": 28,
   "id": "cd364693",
   "metadata": {},
   "outputs": [],
   "source": [
    "def mse(y_true, y_pred):\n",
    "    return np.mean(np.power(y_true-y_pred, 2));\n",
    "\n",
    "def mse_prime(y_true, y_pred):\n",
    "    return 2*(y_pred-y_true)/y_true.size;"
   ]
  },
  {
   "cell_type": "code",
   "execution_count": 29,
   "id": "4366e27b",
   "metadata": {},
   "outputs": [],
   "source": [
    "def softmax(vector):\n",
    "    e = np.exp(vector)\n",
    "    return e / e.sum()"
   ]
  },
  {
   "cell_type": "code",
   "execution_count": 30,
   "id": "519c721c",
   "metadata": {},
   "outputs": [],
   "source": [
    "class Network:\n",
    "    def __init__(self):\n",
    "        self.layers = []\n",
    "        self.loss = None\n",
    "        self.loss_prime = None\n",
    "\n",
    "    # add layer to network\n",
    "    def add(self, layer):\n",
    "        self.layers.append(layer)\n",
    "\n",
    "    # set loss to use\n",
    "    def use(self, loss, loss_prime):\n",
    "        self.loss = loss\n",
    "        self.loss_prime = loss_prime\n",
    "\n",
    "        \n",
    "    # predict output for given input\n",
    "    def predict(self, input_data):\n",
    "        # sample dimension first\n",
    "        samples = len(input_data)\n",
    "        result = []\n",
    "\n",
    "        # run network over all samples\n",
    "        for i in range(samples):\n",
    "            # forward propagation\n",
    "            output = input_data[i]\n",
    "            for layer in self.layers:\n",
    "                output = layer.forward_propagation(output)\n",
    "            result.append(output)\n",
    "\n",
    "        return result\n",
    "\n",
    "    # train the network \n",
    "    \n",
    "    def fit(self, x_train, y_train, epochs, learning_rate):\n",
    "        '''\n",
    "        Fit function does the training. \n",
    "        Training data is passed 1-by-1 through the network layers during forward propagation.\n",
    "        Loss (error) is calculated for each input and back propagation is performed via partial \n",
    "        derivatives on each layer.\n",
    "        '''\n",
    "        # sample dimension first\n",
    "        samples = len(x_train)\n",
    "\n",
    "        # training loop\n",
    "        for i in range(epochs):\n",
    "            err = 0\n",
    "            for j in range(samples):\n",
    "                # forward propagation\n",
    "                output = x_train[j]\n",
    "                for layer in self.layers:\n",
    "                    output = layer.forward_propagation(output)\n",
    "\n",
    "                # compute loss (for display purpose only)\n",
    "                err += self.loss(y_train[j], output)\n",
    "\n",
    "                # backward propagation\n",
    "                error = self.loss_prime(y_train[j], output)\n",
    "                for layer in reversed(self.layers):\n",
    "                    error = layer.backward_propagation(error, learning_rate)\n",
    "\n",
    "            # calculate average error on all samples\n",
    "            err /= samples\n",
    "            print('epoch %d/%d   error=%f' % (i+1, epochs, err))"
   ]
  },
  {
   "cell_type": "code",
   "execution_count": 31,
   "id": "e714490d",
   "metadata": {},
   "outputs": [],
   "source": [
    "X_train = X_train.reshape((X_train.shape[0], 1, X_train.shape[1]))\n",
    "X_test = X_test.reshape((X_test.shape[0], 1, X_test.shape[1]))\n",
    "#y_train = y_train.values.reshape((y_train.shape[0], 1, y_train.shape[1]))\n",
    "#y_test = y_test.values.reshape((y_test.shape[0], 1, y_test.shape[1]))"
   ]
  },
  {
   "cell_type": "code",
   "execution_count": 38,
   "id": "dccf8f16",
   "metadata": {},
   "outputs": [
    {
     "name": "stdout",
     "output_type": "stream",
     "text": [
      "epoch 1/100   error=26.481628\n",
      "epoch 2/100   error=4.268107\n",
      "epoch 3/100   error=2.012996\n",
      "epoch 4/100   error=1.307882\n",
      "epoch 5/100   error=0.899384\n",
      "epoch 6/100   error=0.718305\n",
      "epoch 7/100   error=0.607254\n",
      "epoch 8/100   error=0.532815\n",
      "epoch 9/100   error=0.479109\n",
      "epoch 10/100   error=0.438691\n",
      "epoch 11/100   error=0.407059\n",
      "epoch 12/100   error=0.381584\n",
      "epoch 13/100   error=0.360479\n",
      "epoch 14/100   error=0.338822\n",
      "epoch 15/100   error=0.250653\n",
      "epoch 16/100   error=0.237949\n",
      "epoch 17/100   error=0.225483\n",
      "epoch 18/100   error=0.211685\n",
      "epoch 19/100   error=0.200085\n",
      "epoch 20/100   error=0.189167\n",
      "epoch 21/100   error=0.180116\n",
      "epoch 22/100   error=0.172355\n",
      "epoch 23/100   error=0.165542\n",
      "epoch 24/100   error=0.159455\n",
      "epoch 25/100   error=0.153940\n",
      "epoch 26/100   error=0.148879\n",
      "epoch 27/100   error=0.144166\n",
      "epoch 28/100   error=0.139677\n",
      "epoch 29/100   error=0.135215\n",
      "epoch 30/100   error=0.130504\n",
      "epoch 31/100   error=0.125713\n",
      "epoch 32/100   error=0.121770\n",
      "epoch 33/100   error=0.118750\n",
      "epoch 34/100   error=0.116193\n",
      "epoch 35/100   error=0.113852\n",
      "epoch 36/100   error=0.111634\n",
      "epoch 37/100   error=0.109504\n",
      "epoch 38/100   error=0.107447\n",
      "epoch 39/100   error=0.105453\n",
      "epoch 40/100   error=0.103516\n",
      "epoch 41/100   error=0.101627\n",
      "epoch 42/100   error=0.099775\n",
      "epoch 43/100   error=0.097942\n",
      "epoch 44/100   error=0.096098\n",
      "epoch 45/100   error=0.094184\n",
      "epoch 46/100   error=0.092065\n",
      "epoch 47/100   error=0.089408\n",
      "epoch 48/100   error=0.085794\n",
      "epoch 49/100   error=0.082933\n",
      "epoch 50/100   error=0.081389\n",
      "epoch 51/100   error=0.080154\n",
      "epoch 52/100   error=0.079075\n",
      "epoch 53/100   error=0.078083\n",
      "epoch 54/100   error=0.077138\n",
      "epoch 55/100   error=0.076219\n",
      "epoch 56/100   error=0.075316\n",
      "epoch 57/100   error=0.074423\n",
      "epoch 58/100   error=0.073540\n",
      "epoch 59/100   error=0.072665\n",
      "epoch 60/100   error=0.071800\n",
      "epoch 61/100   error=0.070945\n",
      "epoch 62/100   error=0.070100\n",
      "epoch 63/100   error=0.069266\n",
      "epoch 64/100   error=0.068444\n",
      "epoch 65/100   error=0.067634\n",
      "epoch 66/100   error=0.066836\n",
      "epoch 67/100   error=0.066051\n",
      "epoch 68/100   error=0.065279\n",
      "epoch 69/100   error=0.064519\n",
      "epoch 70/100   error=0.063772\n",
      "epoch 71/100   error=0.063039\n",
      "epoch 72/100   error=0.062317\n",
      "epoch 73/100   error=0.061609\n",
      "epoch 74/100   error=0.060913\n",
      "epoch 75/100   error=0.060229\n",
      "epoch 76/100   error=0.059557\n",
      "epoch 77/100   error=0.058897\n",
      "epoch 78/100   error=0.058249\n",
      "epoch 79/100   error=0.057612\n",
      "epoch 80/100   error=0.056986\n",
      "epoch 81/100   error=0.056371\n",
      "epoch 82/100   error=0.055767\n",
      "epoch 83/100   error=0.055173\n",
      "epoch 84/100   error=0.054590\n",
      "epoch 85/100   error=0.054016\n",
      "epoch 86/100   error=0.053453\n",
      "epoch 87/100   error=0.052899\n",
      "epoch 88/100   error=0.052354\n",
      "epoch 89/100   error=0.051818\n",
      "epoch 90/100   error=0.051291\n",
      "epoch 91/100   error=0.050773\n",
      "epoch 92/100   error=0.050264\n",
      "epoch 93/100   error=0.049763\n",
      "epoch 94/100   error=0.049270\n",
      "epoch 95/100   error=0.048784\n",
      "epoch 96/100   error=0.048307\n",
      "epoch 97/100   error=0.047837\n",
      "epoch 98/100   error=0.047375\n",
      "epoch 99/100   error=0.046920\n",
      "epoch 100/100   error=0.046472\n",
      "[array([[0.99985126]]), array([[0.99992981]]), array([[0.86968805]]), array([[0.99974736]]), array([[0.99991652]]), array([[0.60967988]]), array([[0.99203641]]), array([[0.99954091]]), array([[0.99886994]]), array([[0.77261955]]), array([[2.66748811e-05]]), array([[0.99628086]]), array([[0.99929595]]), array([[0.99993084]]), array([[0.95697488]]), array([[0.99203447]]), array([[0.99991555]]), array([[0.99977562]]), array([[1.84738605e-05]]), array([[0.99979844]]), array([[0.99963958]]), array([[0.92143643]]), array([[0.99992714]]), array([[0.99888394]]), array([[0.99966045]]), array([[0.9998639]]), array([[0.99995073]]), array([[0.9971143]]), array([[0.99837863]]), array([[0.99971105]]), array([[0.99849641]]), array([[1.31406737e-05]]), array([[0.99988867]]), array([[0.99994234]]), array([[0.99989931]]), array([[0.95931197]]), array([[0.7632272]]), array([[0.99697703]]), array([[0.57930779]]), array([[0.840378]]), array([[0.99911535]]), array([[0.9990237]]), array([[0.99956009]]), array([[0.99994015]]), array([[0.98874695]]), array([[0.99548573]]), array([[0.99655814]]), array([[0.99911475]]), array([[0.99995084]]), array([[0.99360877]]), array([[0.99573495]]), array([[0.99992418]]), array([[0.97832043]]), array([[0.8363476]]), array([[0.99985491]]), array([[0.99660671]]), array([[0.99970221]]), array([[0.87093394]]), array([[0.99996578]]), array([[1.57731981e-05]]), array([[0.9507906]]), array([[0.93430704]]), array([[0.99965693]]), array([[0.99520844]]), array([[0.91944555]]), array([[0.9997043]]), array([[0.99994149]]), array([[0.99849535]]), array([[0.99946729]]), array([[0.99965576]]), array([[0.99753616]]), array([[0.9837948]]), array([[0.99988247]]), array([[0.99993412]]), array([[0.99991963]]), array([[0.9990096]]), array([[0.99849497]]), array([[0.99841842]]), array([[0.9992712]]), array([[0.99681723]]), array([[0.99605291]]), array([[0.99991762]]), array([[0.88898091]]), array([[0.99416702]]), array([[0.9615069]]), array([[0.9999068]]), array([[0.84601642]]), array([[0.99978544]]), array([[0.99426859]]), array([[0.98151541]]), array([[0.99731603]]), array([[0.87524236]]), array([[0.99868653]]), array([[0.99958212]]), array([[0.99988007]]), array([[0.99779182]]), array([[0.9995398]]), array([[0.99994262]]), array([[0.99223331]]), array([[0.97265173]]), array([[2.39986481e-05]]), array([[0.99992033]]), array([[0.99837587]]), array([[0.90183047]]), array([[0.67949403]]), array([[0.99994445]]), array([[0.9979607]]), array([[0.99992613]]), array([[0.99178994]]), array([[0.99789561]]), array([[0.99997366]]), array([[0.99993638]]), array([[0.99989209]]), array([[0.99991258]]), array([[0.99021099]]), array([[0.99106006]]), array([[0.9999496]]), array([[0.9991578]]), array([[0.99422823]]), array([[0.99991752]]), array([[0.97223422]]), array([[0.59753354]]), array([[0.99991547]]), array([[0.99941269]]), array([[0.99976707]]), array([[0.99994272]]), array([[0.99751691]]), array([[0.99777034]]), array([[0.99344564]]), array([[0.99460636]]), array([[0.99176106]]), array([[0.9994118]]), array([[0.92929877]]), array([[0.9998238]]), array([[0.99569144]]), array([[0.99997452]]), array([[0.99394313]]), array([[0.99992264]]), array([[0.9987152]]), array([[0.99557311]]), array([[0.99927818]]), array([[0.99722138]]), array([[0.99690764]]), array([[0.99431272]]), array([[0.99999082]]), array([[0.99195733]]), array([[0.99928765]]), array([[0.99897549]]), array([[0.99933038]]), array([[0.87575556]]), array([[0.99755582]]), array([[0.98201399]]), array([[0.99978622]]), array([[0.99789968]]), array([[0.99987632]]), array([[0.97538534]]), array([[0.98596663]]), array([[0.99932246]]), array([[0.99991837]]), array([[0.99952283]]), array([[0.87998591]]), array([[4.46204986e-05]]), array([[0.99848558]]), array([[0.99019504]]), array([[0.00042536]]), array([[0.91607921]]), array([[0.99992434]]), array([[0.9886316]]), array([[0.99842926]]), array([[0.00021368]]), array([[0.82842413]]), array([[0.99954545]]), array([[0.99993613]]), array([[0.99317388]]), array([[0.99998121]]), array([[0.9995459]]), array([[0.99994078]]), array([[0.99959784]]), array([[0.99895496]]), array([[0.99929288]]), array([[0.9852809]]), array([[0.9985765]]), array([[0.9999371]]), array([[0.9989445]]), array([[0.99996163]]), array([[0.99996207]]), array([[0.99985099]]), array([[0.99997515]]), array([[0.81300268]]), array([[0.99675465]]), array([[0.94441544]]), array([[0.99987041]]), array([[0.77678485]]), array([[0.99804224]]), array([[0.99954863]]), array([[0.99133285]]), array([[0.99995607]]), array([[0.66019342]]), array([[0.9999585]]), array([[0.9991443]]), array([[0.99862294]]), array([[0.99992243]]), array([[0.997703]]), array([[0.98335531]]), array([[0.99366967]]), array([[0.99995227]]), array([[0.94599171]]), array([[0.99733323]]), array([[0.99987638]]), array([[0.99808411]]), array([[0.99995578]]), array([[0.99994603]]), array([[0.99973364]]), array([[0.99996334]]), array([[0.99977919]]), array([[0.92217163]]), array([[0.99992418]]), array([[0.99330082]]), array([[0.99987443]]), array([[0.99895874]]), array([[0.94730888]]), array([[0.98903244]]), array([[0.99993634]]), array([[0.99727807]]), array([[0.9999802]]), array([[0.98889885]]), array([[0.99927397]]), array([[0.87334468]]), array([[0.99982227]]), array([[0.99088149]]), array([[0.99902409]]), array([[0.99984373]]), array([[0.99531778]]), array([[0.9956935]]), array([[0.99844809]]), array([[0.99977061]]), array([[0.99960507]]), array([[0.99991235]]), array([[0.99995326]]), array([[0.99959426]]), array([[0.76959716]]), array([[0.99911315]]), array([[0.84869342]]), array([[0.99993923]]), array([[0.99843231]]), array([[0.00063711]]), array([[0.99742962]]), array([[0.99994502]]), array([[0.95963278]]), array([[0.99975086]]), array([[0.99808478]]), array([[0.997594]]), array([[0.99607264]]), array([[2.47571268e-05]]), array([[0.98528885]]), array([[0.99993202]]), array([[0.90049025]]), array([[0.99995125]]), array([[0.99961639]]), array([[0.99904509]]), array([[0.61658329]]), array([[0.99854111]]), array([[0.99917422]]), array([[5.58458049e-05]]), array([[0.00018217]]), array([[0.70957921]]), array([[0.97821076]]), array([[0.92266556]]), array([[0.99730814]]), array([[0.92210187]]), array([[0.99916851]]), array([[0.97067714]]), array([[0.9999846]]), array([[0.99958002]]), array([[0.99324275]]), array([[0.00015694]]), array([[0.99951497]]), array([[0.99926046]]), array([[0.99869221]]), array([[0.99943386]]), array([[0.99998051]]), array([[0.9998517]]), array([[0.99982189]]), array([[0.93222356]]), array([[0.95964989]]), array([[0.99977565]]), array([[0.99345666]]), array([[0.99900266]]), array([[0.75413907]]), array([[0.99616334]]), array([[0.99961875]]), array([[0.99982517]]), array([[0.99891891]]), array([[0.74487156]]), array([[0.91646358]]), array([[0.99993838]]), array([[0.99963914]]), array([[0.99996062]]), array([[0.99813086]]), array([[0.99901285]]), array([[0.99991395]]), array([[0.8428554]]), array([[0.99907659]]), array([[0.99743982]]), array([[0.99971205]]), array([[0.99965781]]), array([[0.9967673]]), array([[0.99990548]]), array([[0.99923486]]), array([[0.92477547]]), array([[0.99809563]]), array([[0.99995568]]), array([[0.99999013]]), array([[0.99906051]]), array([[0.99987532]]), array([[0.8708643]]), array([[0.9999474]]), array([[0.99997952]]), array([[0.99996081]]), array([[0.99987525]]), array([[0.99989973]]), array([[0.955619]]), array([[0.99890214]]), array([[0.78258266]]), array([[0.97698055]]), array([[0.99993017]]), array([[0.99931833]]), array([[0.99739244]]), array([[3.11134775e-05]]), array([[0.99754305]]), array([[0.99822246]]), array([[0.99240289]]), array([[0.78248228]]), array([[0.99984676]]), array([[0.99995409]]), array([[0.99995603]]), array([[0.99995059]]), array([[0.99989427]]), array([[0.99963198]]), array([[0.999887]]), array([[0.99998084]]), array([[0.92941869]]), array([[0.57574596]]), array([[0.99990881]]), array([[0.96900348]]), array([[0.83930937]]), array([[0.98866118]]), array([[0.9999494]]), array([[0.99025208]]), array([[0.99998744]]), array([[1.91626114e-05]]), array([[0.99976414]]), array([[0.99939429]]), array([[0.9991172]]), array([[0.99998643]]), array([[0.99997654]]), array([[0.00251032]]), array([[0.99996957]]), array([[0.99974069]]), array([[0.99102136]]), array([[0.99828661]]), array([[0.00124947]]), array([[0.99932945]]), array([[0.99742564]]), array([[0.94135642]]), array([[0.99923898]]), array([[0.81004268]]), array([[0.99993898]]), array([[0.99971525]]), array([[0.99994448]]), array([[0.99994886]]), array([[0.99993072]]), array([[0.99499525]]), array([[0.99960295]]), array([[0.99848159]]), array([[0.87745214]]), array([[0.9999503]]), array([[0.99991655]]), array([[0.99314711]]), array([[0.99991727]]), array([[0.99998109]]), array([[0.99992263]]), array([[0.99998171]]), array([[0.61918032]]), array([[0.99997466]]), array([[5.04841412e-05]]), array([[0.99865619]]), array([[0.99787454]]), array([[0.98305209]]), array([[0.97922154]]), array([[0.99980099]]), array([[0.99888143]]), array([[0.99618138]]), array([[0.9999034]]), array([[0.92020719]]), array([[0.99903884]]), array([[0.99915872]]), array([[0.99993571]]), array([[0.99896156]]), array([[0.99990268]]), array([[0.99996439]]), array([[3.70798373e-05]]), array([[0.99977811]]), array([[0.95369831]]), array([[0.99984393]]), array([[0.00016634]]), array([[0.00059332]]), array([[1.7422553e-05]]), array([[0.0002997]]), array([[0.98862763]]), array([[0.99814885]]), array([[7.78168996e-05]]), array([[0.99949309]]), array([[0.01586157]]), array([[0.99983032]]), array([[0.00018196]]), array([[0.99970898]]), array([[0.99830352]]), array([[0.99959862]]), array([[0.9990886]]), array([[0.99934094]]), array([[0.00012726]]), array([[0.76955299]]), array([[0.99797433]]), array([[0.99988942]]), array([[2.70337928e-05]]), array([[0.99955517]]), array([[0.82487738]]), array([[1.61354671e-05]]), array([[0.04406769]]), array([[0.99958252]]), array([[0.99952707]]), array([[0.69048396]]), array([[2.79094158e-05]]), array([[0.99998089]]), array([[0.9993528]]), array([[0.99708845]]), array([[0.99784394]]), array([[4.55399274e-05]]), array([[5.51584143e-06]]), array([[0.99967021]]), array([[0.99301953]]), array([[0.00391087]]), array([[0.83508156]]), array([[0.99210818]]), array([[0.9844873]]), array([[0.00220343]]), array([[0.99963084]]), array([[0.95982747]]), array([[0.9988132]]), array([[0.99992691]]), array([[0.99935358]]), array([[0.99902376]]), array([[9.9581111e-05]]), array([[0.98933108]]), array([[0.99995685]]), array([[0.99798381]]), array([[0.99958036]]), array([[0.83589343]]), array([[0.00013421]]), array([[0.99926245]]), array([[0.99646908]]), array([[0.99951626]]), array([[0.57101795]]), array([[0.99976449]]), array([[0.95260833]]), array([[0.99994483]]), array([[0.99823926]]), array([[0.0667706]]), array([[0.99961337]]), array([[0.99997706]]), array([[0.06727134]]), array([[0.99993144]]), array([[0.71621107]]), array([[0.99982741]]), array([[0.97395949]]), array([[8.72547231e-05]]), array([[0.99995097]]), array([[0.99893918]]), array([[0.99983425]]), array([[0.99993373]]), array([[0.99970892]]), array([[0.99986005]]), array([[0.9986906]]), array([[0.99990151]]), array([[0.05660646]]), array([[0.9989592]]), array([[0.99909181]]), array([[0.99996479]]), array([[0.95432977]]), array([[3.30902837e-06]]), array([[3.87657333e-05]]), array([[0.01481182]]), array([[0.9949822]]), array([[0.99991151]]), array([[0.00011708]]), array([[0.99898593]]), array([[0.98509551]]), array([[0.0001621]]), array([[0.00035967]]), array([[3.19917059e-05]]), array([[0.47774221]]), array([[0.98438296]]), array([[0.99597423]]), array([[0.00284569]]), array([[0.00024592]]), array([[0.00018232]]), array([[0.99988152]]), array([[0.98705276]]), array([[0.00016043]]), array([[0.00050572]]), array([[0.99961133]]), array([[0.00013379]]), array([[0.81530768]]), array([[0.99990838]]), array([[0.99992974]]), array([[5.50041733e-05]]), array([[1.95454313e-05]]), array([[0.86247394]]), array([[0.99793313]]), array([[0.00133399]]), array([[0.00017435]]), array([[0.99992842]]), array([[0.00699444]]), array([[0.98958868]]), array([[0.99732705]]), array([[0.00065679]]), array([[5.75174863e-06]]), array([[0.99068783]]), array([[0.99864271]]), array([[0.9902009]]), array([[0.99955207]]), array([[0.99459768]]), array([[6.67855306e-05]]), array([[2.00892029e-05]]), array([[0.00021485]]), array([[0.00010835]]), array([[8.84411571e-06]]), array([[0.00021294]]), array([[0.99010505]]), array([[4.51605621e-06]]), array([[0.00021575]]), array([[1.17894467e-05]]), array([[0.99942497]]), array([[0.99773261]]), array([[0.99256159]]), array([[0.99698492]]), array([[7.74285737e-06]]), array([[0.99925409]]), array([[0.99419614]]), array([[0.99736488]]), array([[0.00057126]]), array([[0.00321846]]), array([[0.99990966]]), array([[0.99914856]]), array([[5.1315068e-05]]), array([[0.99364373]]), array([[0.99993444]]), array([[0.99196967]]), array([[0.8144812]]), array([[0.98128251]]), array([[0.79506452]]), array([[0.94189037]]), array([[0.98530471]]), array([[0.04527899]]), array([[0.98689407]]), array([[0.00156948]]), array([[0.99529678]]), array([[0.00048556]]), array([[0.99989016]]), array([[0.99993908]]), array([[0.9992611]]), array([[0.99742484]]), array([[0.99993064]]), array([[0.00021999]]), array([[0.99992612]]), array([[0.99956983]]), array([[0.99937709]]), array([[0.99994452]]), array([[0.99949289]]), array([[1.09325444e-05]]), array([[0.9976777]]), array([[0.99943214]]), array([[0.99975931]]), array([[0.99992084]]), array([[0.99996294]]), array([[0.88303567]]), array([[7.481206e-05]]), array([[0.99901529]]), array([[0.99851648]]), array([[9.78014339e-06]]), array([[2.70904361e-06]]), array([[0.00364721]]), array([[0.9900803]]), array([[0.99996777]]), array([[0.99994634]]), array([[0.80776743]]), array([[0.81431152]]), array([[0.98865958]]), array([[0.0002377]]), array([[0.99993263]]), array([[0.00198072]]), array([[0.9993847]]), array([[0.99988308]]), array([[0.00010473]]), array([[0.99987657]]), array([[0.99922911]]), array([[0.99992127]]), array([[0.99993544]]), array([[0.99990711]]), array([[0.99950068]]), array([[1.14060254e-05]]), array([[0.00150772]]), array([[0.99864368]]), array([[0.99977302]]), array([[0.99981342]]), array([[0.99972362]]), array([[0.00783477]]), array([[0.99852797]]), array([[0.99734167]]), array([[0.00012201]]), array([[0.99840091]]), array([[0.82601646]]), array([[0.96084028]]), array([[3.32424816e-05]]), array([[0.78407033]]), array([[0.99940371]]), array([[0.99980651]]), array([[0.99994106]]), array([[1.95798022e-05]]), array([[0.99989165]]), array([[0.8987538]]), array([[0.98715954]]), array([[0.99991259]]), array([[0.000582]]), array([[0.00021939]]), array([[2.97225538e-06]]), array([[6.72448353e-05]]), array([[0.62701866]]), array([[0.99961213]]), array([[0.99989039]]), array([[0.99896278]]), array([[1.52843608e-05]]), array([[0.9012234]]), array([[7.29456693e-06]]), array([[0.9998253]]), array([[0.99966127]]), array([[0.00027852]]), array([[0.58386816]]), array([[0.95505719]]), array([[0.99974762]]), array([[0.99986167]]), array([[0.99992616]]), array([[0.9996826]]), array([[0.00012747]]), array([[0.97651475]]), array([[0.99617522]]), array([[0.98817516]]), array([[0.99984603]]), array([[5.86171438e-05]]), array([[0.76242621]]), array([[0.61690118]]), array([[0.85791158]]), array([[2.87067115e-05]]), array([[0.99993937]]), array([[0.99688089]]), array([[0.99820822]]), array([[0.01347585]]), array([[0.00016836]]), array([[0.99998439]]), array([[0.99988156]]), array([[9.76589384e-06]]), array([[0.99996379]]), array([[0.99990143]]), array([[0.00291631]]), array([[0.99984435]]), array([[0.99966122]]), array([[6.63961456e-05]]), array([[0.99997607]]), array([[0.99997053]]), array([[0.99792585]]), array([[0.95745978]]), array([[0.00021455]]), array([[4.18766382e-06]]), array([[0.00029772]]), array([[0.96201925]]), array([[6.51661903e-06]]), array([[0.99991619]]), array([[0.36493526]]), array([[0.00159084]]), array([[0.99833154]]), array([[0.9999164]]), array([[0.99820363]]), array([[0.97212537]]), array([[0.99907342]]), array([[0.99992612]]), array([[0.06602874]]), array([[0.99755881]]), array([[0.99995142]]), array([[0.82698524]]), array([[0.99992823]]), array([[4.98186885e-06]]), array([[0.99955975]]), array([[0.00011897]]), array([[0.99991325]]), array([[0.00010162]]), array([[0.00323434]]), array([[0.99970996]]), array([[0.99216219]]), array([[0.00010023]]), array([[0.97713055]]), array([[0.44227804]]), array([[0.0001216]]), array([[0.9999148]]), array([[0.99984572]]), array([[0.99997827]]), array([[0.99565804]]), array([[0.93909409]]), array([[0.00014683]]), array([[0.99998075]]), array([[0.99510513]]), array([[4.50350017e-05]]), array([[0.00059922]]), array([[4.12226158e-05]]), array([[0.99523124]]), array([[0.99522282]]), array([[0.99217111]]), array([[0.00013042]]), array([[0.9998708]]), array([[3.20050581e-05]]), array([[0.00017737]]), array([[0.02011654]]), array([[0.00059225]]), array([[0.99650503]]), array([[0.00053158]]), array([[1.49402875e-05]]), array([[0.00050258]]), array([[3.85676797e-05]]), array([[0.99969441]]), array([[0.99871461]]), array([[1.57511317e-05]]), array([[0.99990957]]), array([[0.99497312]]), array([[0.9989427]]), array([[0.99047921]]), array([[0.00059561]]), array([[0.00037957]]), array([[0.0001713]]), array([[0.99848441]]), array([[0.98724419]]), array([[0.99885166]]), array([[0.9597774]]), array([[4.89427529e-06]]), array([[0.65599244]]), array([[4.51302946e-05]]), array([[0.99944347]]), array([[3.12718037e-05]]), array([[0.99340678]]), array([[0.99997477]]), array([[6.37150634e-05]]), array([[0.99917683]]), array([[1.12804395e-05]]), array([[0.99994073]]), array([[0.99993293]]), array([[0.00012375]]), array([[0.9886868]]), array([[0.00186546]]), array([[5.66260194e-06]]), array([[0.9997069]]), array([[0.99835045]]), array([[0.99956128]]), array([[4.19151622e-05]]), array([[2.92344002e-05]]), array([[0.98694493]]), array([[1.1461127e-05]]), array([[0.99991781]]), array([[0.88285876]]), array([[0.00046439]]), array([[0.99988833]]), array([[0.00032896]]), array([[0.99802951]]), array([[7.71984408e-05]]), array([[2.67265666e-06]]), array([[0.98142677]]), array([[0.99994339]]), array([[1.65688621e-05]]), array([[0.00305079]]), array([[0.99992471]]), array([[0.99992896]]), array([[0.93855079]]), array([[0.99966889]]), array([[0.00072114]]), array([[0.99977301]]), array([[0.08355722]]), array([[5.92647661e-06]]), array([[0.99973143]]), array([[0.02088755]]), array([[0.96622194]]), array([[0.99981239]]), array([[0.997365]]), array([[1.81455614e-05]]), array([[0.00055153]]), array([[7.27164953e-06]]), array([[0.99941546]]), array([[0.99973341]]), array([[0.54581659]]), array([[0.00010329]]), array([[2.1126786e-05]]), array([[0.99984132]]), array([[0.9988568]]), array([[0.00040904]]), array([[0.98966584]]), array([[0.00017441]]), array([[0.7385859]]), array([[0.9944825]]), array([[1.69357317e-05]]), array([[0.0002089]]), array([[0.99992215]]), array([[0.99959841]]), array([[0.99820936]]), array([[5.47508889e-05]]), array([[0.9999655]]), array([[0.99987815]]), array([[0.99854331]]), array([[0.00994025]]), array([[0.99954773]]), array([[0.00174062]]), array([[0.99886695]]), array([[0.0009414]]), array([[1.89422611e-05]]), array([[3.12150817e-06]]), array([[0.99932631]]), array([[0.99957276]]), array([[0.99938603]]), array([[0.99986343]]), array([[0.00012228]]), array([[2.80782577e-06]]), array([[0.00478111]]), array([[0.99258815]]), array([[0.99993683]]), array([[0.6860014]]), array([[0.99829301]]), array([[0.99988947]]), array([[0.0012667]]), array([[0.99761926]]), array([[1.94137193e-05]]), array([[0.99974878]]), array([[1.25654552e-05]]), array([[0.99975679]]), array([[0.99989903]]), array([[6.42564311e-05]]), array([[3.1768438e-05]]), array([[0.99537644]]), array([[0.00061771]]), array([[0.0362461]]), array([[8.48538427e-05]]), array([[0.9987713]]), array([[0.99994869]]), array([[0.99859092]]), array([[2.51531166e-06]]), array([[0.00084234]]), array([[0.00016719]]), array([[2.85307973e-05]]), array([[0.96224427]]), array([[0.88544023]]), array([[0.86091166]]), array([[0.99979225]]), array([[0.00018774]]), array([[0.02124742]]), array([[0.00033154]]), array([[0.75343177]]), array([[0.20723858]]), array([[0.99839318]]), array([[5.74511426e-05]]), array([[5.13018955e-05]]), array([[0.99993197]]), array([[0.00021813]]), array([[0.00030621]]), array([[0.00064284]]), array([[6.99743637e-05]]), array([[0.99833819]]), array([[0.99400151]]), array([[0.99871796]]), array([[0.99051454]]), array([[0.99985808]]), array([[0.99736368]]), array([[3.55851608e-05]]), array([[0.00957889]]), array([[0.6068029]]), array([[0.00042124]]), array([[0.99995381]]), array([[0.00162882]]), array([[0.00051974]]), array([[0.99046261]]), array([[0.9648824]]), array([[0.99966418]]), array([[0.99918177]]), array([[0.99951075]]), array([[0.99600676]]), array([[0.0002227]]), array([[0.99903271]]), array([[0.00033507]]), array([[0.79869553]]), array([[0.99472429]]), array([[0.99989775]]), array([[0.00012844]]), array([[2.45757674e-05]]), array([[0.99866941]]), array([[3.80090404e-05]]), array([[0.9325549]]), array([[0.99996527]]), array([[0.89628048]]), array([[1.34677253e-05]]), array([[4.54120788e-06]]), array([[4.19754405e-06]]), array([[0.9996358]]), array([[0.0068526]]), array([[0.00014143]]), array([[0.99717818]]), array([[6.01285383e-06]]), array([[0.99979953]]), array([[0.93005004]]), array([[0.81094454]]), array([[0.03309672]]), array([[0.99952747]]), array([[0.99917737]]), array([[0.00064825]]), array([[0.99997266]]), array([[0.99953157]]), array([[0.99987895]]), array([[0.99573591]]), array([[0.99997753]]), array([[0.99981127]]), array([[2.74311738e-05]]), array([[0.99358881]]), array([[1.42788351e-05]]), array([[0.926126]]), array([[0.99867609]]), array([[7.28548775e-06]]), array([[0.99758017]]), array([[0.00011615]]), array([[8.27595854e-06]]), array([[0.97046526]]), array([[0.44296873]]), array([[0.00053391]]), array([[9.96528529e-05]]), array([[3.75537122e-05]]), array([[4.6952705e-05]]), array([[0.99970807]]), array([[0.72713837]]), array([[0.06085817]]), array([[0.00037137]]), array([[0.99996938]]), array([[0.9998727]]), array([[0.99957453]]), array([[0.99964645]]), array([[0.00019621]]), array([[0.99614455]]), array([[0.99845675]]), array([[0.99953175]]), array([[0.00042963]]), array([[7.02321003e-05]]), array([[0.99536042]]), array([[0.99807992]]), array([[5.93623547e-05]]), array([[0.9992752]]), array([[0.98436681]]), array([[0.98835571]]), array([[7.04363853e-05]]), array([[0.00021535]]), array([[0.00183097]]), array([[0.9999239]]), array([[0.99985619]]), array([[0.98606823]]), array([[0.99988363]]), array([[0.99702881]]), array([[0.91107547]]), array([[0.99908919]]), array([[0.62823917]]), array([[0.89789625]]), array([[0.00031417]]), array([[0.00293125]]), array([[0.00399098]]), array([[0.99993406]]), array([[0.02224824]]), array([[0.99285209]]), array([[0.00463952]]), array([[4.96308556e-06]]), array([[0.99686859]]), array([[0.98971736]]), array([[0.90117952]]), array([[0.00096394]]), array([[0.80719981]]), array([[0.99998439]]), array([[0.99976374]]), array([[0.9989261]]), array([[0.99945078]]), array([[0.94008964]]), array([[0.99907227]]), array([[0.0002588]]), array([[0.00041164]]), array([[0.00180617]]), array([[0.99792636]]), array([[0.99987326]]), array([[0.99877642]]), array([[0.9985975]]), array([[0.99896297]]), array([[0.99987892]]), array([[0.8793496]]), array([[0.9867248]]), array([[0.98960839]]), array([[6.96894877e-05]]), array([[0.56625791]]), array([[0.99989571]]), array([[9.32609873e-05]]), array([[8.51045392e-06]]), array([[0.40920827]]), array([[2.28551499e-05]]), array([[0.99915038]]), array([[0.8764228]]), array([[0.67768975]]), array([[0.99816415]]), array([[0.99996575]]), array([[0.00077247]]), array([[3.99342151e-05]]), array([[0.00132335]]), array([[0.99991646]]), array([[5.53815327e-06]]), array([[0.99726075]]), array([[0.00039806]]), array([[7.27794771e-06]]), array([[0.99933512]]), array([[0.00015825]]), array([[3.923369e-05]]), array([[0.0648414]]), array([[0.00019086]]), array([[0.00056481]]), array([[0.00127061]]), array([[0.00654882]]), array([[0.99884882]]), array([[0.99818291]]), array([[3.08074573e-05]]), array([[0.00100621]]), array([[4.76518338e-05]]), array([[1.29706529e-05]]), array([[0.99914191]]), array([[0.99991669]]), array([[0.99785669]]), array([[4.51480498e-06]]), array([[0.30155372]]), array([[0.99996525]]), array([[0.00045421]]), array([[0.88709143]]), array([[0.00065831]]), array([[0.99704005]]), array([[0.90851656]]), array([[0.00035167]]), array([[0.9996507]]), array([[0.99996943]]), array([[4.00402821e-05]]), array([[0.00037034]]), array([[2.24431931e-05]]), array([[1.30981712e-05]]), array([[0.97065439]]), array([[0.99980375]]), array([[0.0002044]]), array([[0.99802387]]), array([[4.77406745e-05]]), array([[0.99981682]]), array([[0.99974446]]), array([[0.99100067]]), array([[0.06402098]]), array([[0.99651473]]), array([[0.99768957]]), array([[6.72222242e-05]]), array([[0.99987076]]), array([[0.99988634]]), array([[1.10007713e-05]]), array([[0.99985578]]), array([[0.99153699]]), array([[0.99791802]]), array([[0.9404549]]), array([[6.53046308e-05]]), array([[0.99808137]]), array([[0.99988478]]), array([[0.00037526]]), array([[2.6868072e-05]]), array([[0.00010359]]), array([[0.99839954]]), array([[0.99647909]]), array([[0.9995761]]), array([[0.00032023]]), array([[0.99936372]]), array([[0.99915357]]), array([[0.00012144]]), array([[0.99808475]]), array([[0.99970488]]), array([[0.99671025]]), array([[0.00382714]]), array([[0.99993858]]), array([[0.9999788]]), array([[0.01223308]]), array([[0.99987556]]), array([[0.00040744]]), array([[0.99921083]]), array([[0.00017696]]), array([[0.88969218]]), array([[0.99998042]]), array([[0.7570634]]), array([[0.68188318]]), array([[1.39114868e-05]]), array([[7.79320976e-05]]), array([[0.98085108]]), array([[3.35168697e-05]]), array([[0.99991099]]), array([[0.99903452]]), array([[0.00021274]]), array([[0.97742369]]), array([[5.48623278e-06]]), array([[0.95980682]]), array([[0.99375747]]), array([[0.99680651]]), array([[0.93993669]]), array([[9.60617154e-06]]), array([[0.00014702]]), array([[0.99868485]]), array([[0.99998169]]), array([[0.00108555]]), array([[0.00166933]]), array([[0.99634204]]), array([[0.45468586]]), array([[0.00059223]]), array([[0.00110432]]), array([[0.0003771]]), array([[0.96205899]]), array([[0.99303879]]), array([[0.01389772]]), array([[0.00641986]]), array([[0.9998996]]), array([[0.99993565]]), array([[0.99792225]]), array([[2.7357185e-05]]), array([[5.72360205e-05]]), array([[3.21754346e-05]]), array([[2.74162887e-05]]), array([[4.43500678e-05]]), array([[0.99800141]]), array([[0.99889942]]), array([[0.9124167]]), array([[0.99998759]]), array([[0.00014109]]), array([[0.00218621]]), array([[5.18111468e-06]]), array([[4.22600956e-05]]), array([[0.87870881]]), array([[0.9985548]]), array([[0.99569246]]), array([[0.98646289]]), array([[0.99998114]]), array([[2.65771354e-05]]), array([[0.00040464]]), array([[0.99066484]]), array([[0.99646661]]), array([[9.23167155e-05]]), array([[0.99978389]]), array([[0.00100632]]), array([[8.64244473e-06]]), array([[0.99994176]]), array([[0.9997801]]), array([[0.99887345]]), array([[0.99468726]]), array([[0.99997073]]), array([[0.00106923]]), array([[0.9933329]]), array([[0.00020999]]), array([[2.23184563e-06]]), array([[0.99146616]]), array([[0.99860012]]), array([[0.9974754]]), array([[0.00017165]]), array([[0.99972332]]), array([[0.00047396]]), array([[0.99987862]]), array([[0.00024479]]), array([[0.99946178]]), array([[0.99701384]]), array([[5.89645468e-05]]), array([[0.99465784]]), array([[0.98953353]]), array([[4.95315598e-05]]), array([[9.99699448e-06]]), array([[0.99898227]]), array([[0.98978445]]), array([[1.4408723e-05]]), array([[0.99768566]]), array([[0.9942958]]), array([[0.99979781]]), array([[0.99849427]]), array([[0.99941284]]), array([[2.63634888e-05]]), array([[1.27130356e-05]]), array([[0.99989164]]), array([[0.00021042]]), array([[0.07807839]]), array([[0.99546856]]), array([[0.00114199]]), array([[0.29615532]]), array([[0.6368283]]), array([[0.99989889]]), array([[0.99949169]]), array([[0.00413532]]), array([[5.63964394e-05]]), array([[0.99845133]]), array([[0.00065239]]), array([[0.99793805]]), array([[0.0003358]]), array([[0.94051538]]), array([[0.00111851]]), array([[0.06257713]]), array([[0.99769832]]), array([[0.96275329]]), array([[0.00049189]]), array([[0.00371028]]), array([[0.99950984]]), array([[0.00187906]]), array([[2.81715335e-05]]), array([[3.84184999e-05]]), array([[0.99796897]]), array([[0.00228815]]), array([[0.77139504]]), array([[0.00100887]]), array([[0.99716542]]), array([[0.99907651]]), array([[0.99895353]]), array([[0.99937828]]), array([[0.99996591]]), array([[0.99989219]]), array([[2.8460797e-06]]), array([[0.00052317]]), array([[0.99940633]]), array([[0.01737291]]), array([[1.53510361e-05]]), array([[0.00122643]]), array([[0.99914217]]), array([[4.9314259e-05]]), array([[1.07759263e-05]]), array([[0.00081252]]), array([[0.00016833]]), array([[6.66686655e-05]]), array([[5.85654163e-05]]), array([[1.35765895e-05]]), array([[0.99852969]]), array([[0.5150676]]), array([[1.3511676e-05]]), array([[5.18669042e-05]]), array([[0.99935147]]), array([[0.97552866]]), array([[0.99998399]]), array([[0.99992232]]), array([[0.99409792]]), array([[1.02030212e-05]]), array([[0.99543278]]), array([[5.49116416e-06]]), array([[0.00058931]]), array([[0.00014921]]), array([[0.99915299]]), array([[6.58862647e-06]]), array([[0.9999339]]), array([[0.99985551]]), array([[0.99093012]]), array([[2.52333396e-05]]), array([[0.99963522]]), array([[0.999309]]), array([[0.00011702]]), array([[0.99988581]]), array([[0.99745322]]), array([[0.99982794]]), array([[9.22951763e-06]]), array([[0.00187918]]), array([[0.9897808]]), array([[0.07085857]]), array([[0.98658342]]), array([[0.55454462]]), array([[3.15117942e-05]]), array([[1.19053803e-05]]), array([[0.99880014]]), array([[0.60096056]]), array([[0.99998845]]), array([[0.99992586]]), array([[0.00125683]]), array([[0.50044448]]), array([[0.00010502]]), array([[0.00025081]]), array([[0.99994263]]), array([[0.99677223]]), array([[0.99717799]]), array([[1.52121934e-05]]), array([[0.99885892]]), array([[0.00012753]]), array([[0.99789429]]), array([[0.99913601]]), array([[0.98543264]]), array([[0.00020052]]), array([[0.99880055]]), array([[9.19788462e-05]]), array([[0.79070883]]), array([[0.00348717]]), array([[0.8262857]]), array([[4.45870333e-05]]), array([[0.9389219]]), array([[4.3078762e-05]]), array([[1.26281906e-05]]), array([[0.00073962]]), array([[0.98366443]]), array([[0.00010868]]), array([[4.33297113e-05]]), array([[0.68835606]]), array([[0.99967346]]), array([[0.00020267]]), array([[1.101636e-05]]), array([[0.99989073]]), array([[0.00313499]]), array([[0.99727371]]), array([[0.99976434]]), array([[0.00021511]]), array([[0.99961531]]), array([[0.00034539]]), array([[0.99888817]]), array([[0.73443377]]), array([[0.00086776]]), array([[1.00108421e-05]]), array([[7.37000268e-05]]), array([[0.00446375]]), array([[0.99821737]]), array([[8.22594452e-06]]), array([[3.69264011e-05]]), array([[0.98766782]]), array([[2.97534106e-05]]), array([[0.9994816]]), array([[0.00012091]]), array([[0.55019918]]), array([[1.14215595e-05]]), array([[0.9994034]]), array([[0.00020876]]), array([[0.00102402]]), array([[0.00026962]]), array([[0.00142594]]), array([[0.61243819]]), array([[0.0001276]]), array([[0.99953586]]), array([[0.99593563]]), array([[0.99905707]]), array([[0.99990192]]), array([[0.98622658]]), array([[0.88939534]]), array([[0.00014852]]), array([[0.87968153]]), array([[0.99587787]]), array([[0.84813015]]), array([[9.41617451e-06]]), array([[0.00022294]]), array([[7.00898911e-05]]), array([[0.9996115]]), array([[0.99203643]]), array([[0.51841137]]), array([[0.99988599]]), array([[0.99987098]]), array([[0.00053033]]), array([[0.00029078]]), array([[0.99956143]]), array([[0.99983742]]), array([[7.7911584e-05]]), array([[0.00022542]]), array([[7.01786111e-05]]), array([[0.9980843]]), array([[0.99984139]]), array([[0.97489668]]), array([[0.99803203]]), array([[0.99994232]]), array([[4.18638097e-05]]), array([[0.99971866]]), array([[0.99942744]]), array([[0.99987641]]), array([[0.00020775]]), array([[0.99217607]]), array([[0.99907136]]), array([[0.99571557]]), array([[0.00040758]]), array([[0.06454309]]), array([[0.99521327]]), array([[0.99990011]]), array([[0.00039707]]), array([[0.71849247]]), array([[0.85615642]]), array([[3.92642465e-05]]), array([[0.00014174]]), array([[0.00038716]]), array([[0.99993696]]), array([[0.54482383]]), array([[0.00745662]]), array([[0.93585619]]), array([[0.00036542]]), array([[0.99913706]]), array([[0.99900608]]), array([[0.99995311]]), array([[0.00010409]]), array([[3.3190093e-06]]), array([[0.99992314]]), array([[6.36460382e-05]]), array([[0.99566755]]), array([[2.78947632e-05]]), array([[0.00330815]]), array([[6.40548844e-05]]), array([[9.0488282e-06]]), array([[7.27580303e-06]]), array([[0.99996705]]), array([[4.09121509e-05]]), array([[3.23041535e-05]]), array([[0.99987231]]), array([[3.23510014e-05]]), array([[0.2494885]]), array([[0.99802363]]), array([[1.30444949e-05]]), array([[0.00118459]]), array([[0.99998016]]), array([[0.99211981]]), array([[0.99281494]]), array([[0.99641863]]), array([[7.69134876e-05]]), array([[0.99556391]]), array([[0.00011324]]), array([[0.99998481]]), array([[0.09581044]]), array([[0.99921737]]), array([[0.00063765]]), array([[0.99841162]]), array([[0.99414269]]), array([[0.99486311]]), array([[1.614927e-05]]), array([[1.24344119e-05]]), array([[0.00012071]]), array([[0.00092151]]), array([[0.00176883]]), array([[0.77772534]]), array([[0.99991439]]), array([[0.00058204]]), array([[1.97288008e-05]]), array([[0.00014781]]), array([[0.99173186]]), array([[0.99863223]]), array([[0.94343768]]), array([[0.98466006]]), array([[0.99975371]]), array([[0.00021132]]), array([[1.42072414e-05]]), array([[2.26394335e-05]]), array([[0.00015478]]), array([[9.96198431e-05]]), array([[1.43096109e-05]]), array([[1.78369558e-05]]), array([[0.99955044]]), array([[0.00099525]]), array([[0.85248401]]), array([[0.99938014]]), array([[0.99945793]]), array([[0.00075516]]), array([[0.00034283]]), array([[1.44757213e-05]]), array([[0.99973227]]), array([[0.9999]]), array([[0.99892342]]), array([[0.00353888]]), array([[3.26800522e-06]]), array([[7.69833252e-05]]), array([[0.99939493]]), array([[0.00023699]]), array([[6.94396871e-05]]), array([[6.65961206e-05]]), array([[5.03481524e-05]]), array([[0.99914762]]), array([[5.0529398e-05]]), array([[0.99970859]]), array([[0.00124108]]), array([[0.91528502]]), array([[0.00014557]]), array([[0.10053566]]), array([[0.0038091]]), array([[0.05292735]]), array([[0.99997489]]), array([[0.0008509]]), array([[0.99988128]]), array([[0.99991716]]), array([[1.47944699e-05]]), array([[0.9994255]]), array([[0.00015507]]), array([[0.00024589]]), array([[0.99596675]]), array([[0.00058537]]), array([[0.99992042]]), array([[0.93119209]]), array([[2.59206206e-06]]), array([[3.89065053e-06]]), array([[0.06087701]]), array([[0.00053786]]), array([[5.09573627e-06]]), array([[0.99982913]]), array([[0.67449648]]), array([[0.99485244]]), array([[0.99992339]]), array([[0.99998715]]), array([[1.02982812e-05]]), array([[0.00094038]]), array([[0.00064018]]), array([[0.56654579]]), array([[1.17510236e-05]]), array([[3.32000795e-05]]), array([[0.00057623]]), array([[0.99774745]]), array([[0.0002124]]), array([[0.00078155]]), array([[9.37697809e-05]]), array([[0.89481943]]), array([[0.99945619]]), array([[0.99993184]]), array([[0.99464525]]), array([[0.99985434]]), array([[0.00718678]]), array([[3.97991607e-06]]), array([[0.99982569]]), array([[0.99858005]]), array([[2.27550405e-05]]), array([[0.00049529]]), array([[0.99992789]]), array([[0.99754053]]), array([[0.99754836]]), array([[0.00011055]]), array([[1.34248439e-05]]), array([[8.10246153e-06]]), array([[0.9998707]]), array([[0.00053114]]), array([[0.99962624]]), array([[2.91994488e-05]]), array([[0.99881663]]), array([[0.00050361]]), array([[8.03308419e-06]]), array([[0.00094421]]), array([[0.99622674]]), array([[3.22914066e-05]]), array([[0.9977383]]), array([[0.98622813]]), array([[0.99955158]]), array([[0.98614574]]), array([[0.00058369]]), array([[3.62305602e-05]]), array([[0.99988635]]), array([[2.68477251e-06]]), array([[1.12712659e-05]]), array([[0.00033727]]), array([[4.06544198e-05]]), array([[0.99286345]]), array([[0.99761971]]), array([[0.99559783]]), array([[0.99988311]]), array([[0.99808897]]), array([[0.00034853]]), array([[0.99826299]]), array([[0.00021758]]), array([[0.99996477]]), array([[0.00010377]]), array([[0.00145946]]), array([[3.39970878e-06]]), array([[0.99940888]]), array([[2.90821425e-05]]), array([[0.99996207]]), array([[2.12712009e-05]]), array([[4.50719953e-05]]), array([[0.00021853]]), array([[0.00156582]]), array([[3.63531994e-05]]), array([[6.13807509e-05]]), array([[0.99295057]]), array([[0.99782165]]), array([[0.99985954]]), array([[0.99984807]]), array([[0.63638288]]), array([[0.00016674]]), array([[0.0003286]]), array([[5.19449473e-06]]), array([[0.99984582]]), array([[3.33172651e-06]]), array([[0.99987489]]), array([[0.99986931]]), array([[0.99983028]]), array([[0.97878587]]), array([[0.99969597]]), array([[4.12464775e-05]]), array([[0.0023025]]), array([[2.98428944e-05]]), array([[0.99979713]]), array([[0.99935188]]), array([[0.00159225]]), array([[0.00017397]]), array([[0.97694544]]), array([[1.10878398e-05]]), array([[0.00015074]]), array([[1.04643109e-05]]), array([[0.00084455]]), array([[1.19702503e-05]]), array([[2.50572134e-05]]), array([[0.99857182]]), array([[1.28652904e-05]]), array([[1.08133808e-05]]), array([[4.86127923e-06]]), array([[0.00032716]]), array([[0.99987093]]), array([[0.0009527]]), array([[2.88896957e-05]]), array([[0.99815427]]), array([[0.99826152]]), array([[0.99984125]]), array([[0.00026531]]), array([[0.00033945]]), array([[0.00011351]]), array([[0.9898732]]), array([[0.00015819]])]\n"
     ]
    }
   ],
   "source": [
    "net = Network()\n",
    "net.add(FCLayer(95, 16))\n",
    "net.add(ActivationLayer(sigmoid, sigmoid_prime))\n",
    "net.add(FCLayer(16, 1))\n",
    "net.add(ActivationLayer(sigmoid, sigmoid_prime))\n",
    "\n",
    "#print(X_train.shape)\n",
    "# train\n",
    "net.use(log_loss, log_loss_prime)\n",
    "net.fit(X_train, y_train, epochs=100, learning_rate=0.01)\n",
    "\n",
    "# test\n",
    "out = net.predict(X_test)\n",
    "print(out)"
   ]
  },
  {
   "cell_type": "code",
   "execution_count": 50,
   "id": "90d5931c",
   "metadata": {},
   "outputs": [],
   "source": [
    "y_pred = np.round(out).reshape((1625,)).astype(int)"
   ]
  },
  {
   "cell_type": "code",
   "execution_count": 40,
   "id": "774433a2",
   "metadata": {},
   "outputs": [
    {
     "data": {
      "text/plain": [
       "6499    1\n",
       "6500    1\n",
       "6501    1\n",
       "6502    1\n",
       "6503    1\n",
       "       ..\n",
       "8119    0\n",
       "8120    0\n",
       "8121    0\n",
       "8122    1\n",
       "8123    0\n",
       "Name: class_p, Length: 1625, dtype: uint8"
      ]
     },
     "execution_count": 40,
     "metadata": {},
     "output_type": "execute_result"
    }
   ],
   "source": [
    "y_test"
   ]
  },
  {
   "cell_type": "code",
   "execution_count": 58,
   "id": "9dedf718",
   "metadata": {},
   "outputs": [
    {
     "name": "stdout",
     "output_type": "stream",
     "text": [
      "Accuracy of the model: 0.9710769230769231\n"
     ]
    }
   ],
   "source": [
    "accuracy = (y_test == y_pred).sum() / len(y_test)\n",
    "print(f\"Accuracy of the model: {accuracy}\")"
   ]
  },
  {
   "cell_type": "code",
   "execution_count": 65,
   "id": "cf69d9fb",
   "metadata": {},
   "outputs": [
    {
     "data": {
      "text/plain": [
       "(0, 507)"
      ]
     },
     "execution_count": 65,
     "metadata": {},
     "output_type": "execute_result"
    }
   ],
   "source": [
    "false_negative = y_pred[y_test==0].sum()\n",
    "true_negative = (y_test==0).sum()-false_negative\n",
    "false_negative, true_negative"
   ]
  },
  {
   "cell_type": "code",
   "execution_count": 74,
   "id": "5559bf8f",
   "metadata": {},
   "outputs": [
    {
     "data": {
      "text/plain": [
       "(1071, 47)"
      ]
     },
     "execution_count": 74,
     "metadata": {},
     "output_type": "execute_result"
    }
   ],
   "source": [
    "true_positive = (y_pred[y_test==1]==1).sum()\n",
    "false_positive = (y_test==1).sum()-true_positive\n",
    "true_positive, false_positive"
   ]
  },
  {
   "cell_type": "code",
   "execution_count": 78,
   "id": "b757d620",
   "metadata": {},
   "outputs": [],
   "source": [
    "precision = true_positive/(true_positive+false_positive)\n",
    "recall = true_positive/(true_positive+false_negative)\n",
    "f1_score = 2*precision*recall/(precision+recall)"
   ]
  },
  {
   "cell_type": "code",
   "execution_count": 79,
   "id": "8232fef9",
   "metadata": {},
   "outputs": [
    {
     "name": "stdout",
     "output_type": "stream",
     "text": [
      "{'accuracy': 0.9710769230769231, 'precision': 0.9579606440071556, 'recall': 1.0, 'f1_score': 0.9785290086797626}\n"
     ]
    }
   ],
   "source": [
    "results = {\n",
    "    \"accuracy\": accuracy,\n",
    "    \"precision\": precision,\n",
    "    \"recall\": recall,\n",
    "    \"f1_score\": f1_score,\n",
    "}\n",
    "print(results)"
   ]
  }
 ],
 "metadata": {
  "kernelspec": {
   "display_name": "Python 3 (ipykernel)",
   "language": "python",
   "name": "python3"
  },
  "language_info": {
   "codemirror_mode": {
    "name": "ipython",
    "version": 3
   },
   "file_extension": ".py",
   "mimetype": "text/x-python",
   "name": "python",
   "nbconvert_exporter": "python",
   "pygments_lexer": "ipython3",
   "version": "3.10.7"
  }
 },
 "nbformat": 4,
 "nbformat_minor": 5
}
